{
 "cells": [
  {
   "cell_type": "code",
   "execution_count": 6,
   "id": "317f2efb",
   "metadata": {},
   "outputs": [],
   "source": [
    "# 1)\n",
    "#import numpy\n",
    "import numpy as np"
   ]
  },
  {
   "cell_type": "code",
   "execution_count": 9,
   "id": "d9e62f34",
   "metadata": {},
   "outputs": [
    {
     "data": {
      "text/plain": [
       "array([15, 16, 17, 18, 19, 20, 21, 22, 23, 24, 25, 26, 27, 28, 29, 30, 31,\n",
       "       32, 33, 34, 35, 36, 37, 38, 39, 40])"
      ]
     },
     "execution_count": 9,
     "metadata": {},
     "output_type": "execute_result"
    }
   ],
   "source": [
    "# 2)\n",
    "array1 = np.arange(15,41,1)\n",
    "array1"
   ]
  },
  {
   "cell_type": "code",
   "execution_count": 10,
   "id": "bb1d6e02",
   "metadata": {},
   "outputs": [
    {
     "data": {
      "text/plain": [
       "array([10, 11, 12, 13, 14, 15, 16, 17, 18, 19, 20, 21, 22, 23, 24, 25])"
      ]
     },
     "execution_count": 10,
     "metadata": {},
     "output_type": "execute_result"
    }
   ],
   "source": [
    "# 2.1)\n",
    "array2 = np.arange(10,26,1)\n",
    "array2"
   ]
  },
  {
   "cell_type": "code",
   "execution_count": 32,
   "id": "82e79edc",
   "metadata": {},
   "outputs": [
    {
     "data": {
      "text/plain": [
       "(26,)"
      ]
     },
     "execution_count": 32,
     "metadata": {},
     "output_type": "execute_result"
    }
   ],
   "source": [
    "array1.shape"
   ]
  },
  {
   "cell_type": "code",
   "execution_count": 33,
   "id": "c0747c2a",
   "metadata": {},
   "outputs": [
    {
     "data": {
      "text/plain": [
       "(16,)"
      ]
     },
     "execution_count": 33,
     "metadata": {},
     "output_type": "execute_result"
    }
   ],
   "source": [
    "array2.shape"
   ]
  },
  {
   "cell_type": "markdown",
   "id": "52ffe7dd",
   "metadata": {},
   "source": [
    "The difference between the two arrays is the size of each array."
   ]
  },
  {
   "cell_type": "code",
   "execution_count": 27,
   "id": "a5104ea4",
   "metadata": {},
   "outputs": [
    {
     "data": {
      "text/plain": [
       "array([ 2,  4,  6,  8, 10, 12, 14, 16, 18, 20])"
      ]
     },
     "execution_count": 27,
     "metadata": {},
     "output_type": "execute_result"
    }
   ],
   "source": [
    "# 3)\n",
    "even_array1 = np.arange(2,22,2)\n",
    "even_array1"
   ]
  },
  {
   "cell_type": "code",
   "execution_count": 28,
   "id": "2ec3b11c",
   "metadata": {},
   "outputs": [
    {
     "data": {
      "text/plain": [
       "array([34, 36, 38, 40, 42])"
      ]
     },
     "execution_count": 28,
     "metadata": {},
     "output_type": "execute_result"
    }
   ],
   "source": [
    "# 3.1)\n",
    "even_array2 = np.arange(34,44,2)\n",
    "even_array2"
   ]
  },
  {
   "cell_type": "code",
   "execution_count": 29,
   "id": "6f08423b",
   "metadata": {},
   "outputs": [
    {
     "data": {
      "text/plain": [
       "(10,)"
      ]
     },
     "execution_count": 29,
     "metadata": {},
     "output_type": "execute_result"
    }
   ],
   "source": [
    "even_array1.shape"
   ]
  },
  {
   "cell_type": "code",
   "execution_count": 30,
   "id": "71b8ea37",
   "metadata": {},
   "outputs": [
    {
     "data": {
      "text/plain": [
       "(5,)"
      ]
     },
     "execution_count": 30,
     "metadata": {},
     "output_type": "execute_result"
    }
   ],
   "source": [
    "even_array2.shape"
   ]
  },
  {
   "cell_type": "code",
   "execution_count": 31,
   "id": "6df2e012",
   "metadata": {},
   "outputs": [
    {
     "data": {
      "text/plain": [
       "array([ 2,  4,  6,  8, 10, 12, 14, 16, 18, 20, 34, 36, 38, 40, 42])"
      ]
     },
     "execution_count": 31,
     "metadata": {},
     "output_type": "execute_result"
    }
   ],
   "source": [
    "# 3.2)\n",
    "stacked_array = np.hstack((even_array1, even_array2))\n",
    "stacked_array"
   ]
  },
  {
   "cell_type": "code",
   "execution_count": 34,
   "id": "6b6f8a3f",
   "metadata": {},
   "outputs": [],
   "source": [
    "# 4)\n",
    "matrix = np.arange(0,36).reshape(6,6)"
   ]
  },
  {
   "cell_type": "code",
   "execution_count": 35,
   "id": "49ef4d31",
   "metadata": {},
   "outputs": [
    {
     "data": {
      "text/plain": [
       "array([[ 0,  1,  2,  3,  4,  5],\n",
       "       [ 6,  7,  8,  9, 10, 11],\n",
       "       [12, 13, 14, 15, 16, 17],\n",
       "       [18, 19, 20, 21, 22, 23],\n",
       "       [24, 25, 26, 27, 28, 29],\n",
       "       [30, 31, 32, 33, 34, 35]])"
      ]
     },
     "execution_count": 35,
     "metadata": {},
     "output_type": "execute_result"
    }
   ],
   "source": [
    "matrix"
   ]
  },
  {
   "cell_type": "code",
   "execution_count": 37,
   "id": "6e35aee2",
   "metadata": {},
   "outputs": [
    {
     "data": {
      "text/plain": [
       "13"
      ]
     },
     "execution_count": 37,
     "metadata": {},
     "output_type": "execute_result"
    }
   ],
   "source": [
    "# retrieve the intersetion of 3rd row and 2nd column\n",
    "matrix[2][1]"
   ]
  },
  {
   "cell_type": "code",
   "execution_count": 38,
   "id": "8a9171ea",
   "metadata": {},
   "outputs": [
    {
     "data": {
      "text/plain": [
       "array([[-0.12254719, -0.87952532],\n",
       "       [-0.77524145, -0.47429243],\n",
       "       [ 0.12916459,  0.33480185],\n",
       "       [-1.01285422, -0.61505665],\n",
       "       [-1.06271849,  1.50517303]])"
      ]
     },
     "execution_count": 38,
     "metadata": {},
     "output_type": "execute_result"
    }
   ],
   "source": [
    "# 4.1)\n",
    "std_matrix = np.random.standard_normal((5,2))\n",
    "std_matrix"
   ]
  },
  {
   "cell_type": "code",
   "execution_count": 39,
   "id": "ea3d992b",
   "metadata": {},
   "outputs": [
    {
     "data": {
      "text/plain": [
       "1.505173030980929"
      ]
     },
     "execution_count": 39,
     "metadata": {},
     "output_type": "execute_result"
    }
   ],
   "source": [
    "# 4.2)\n",
    "std_matrix[-1][-1]"
   ]
  },
  {
   "cell_type": "code",
   "execution_count": 41,
   "id": "d44532ab",
   "metadata": {},
   "outputs": [
    {
     "data": {
      "text/plain": [
       "-1.0627184872900652"
      ]
     },
     "execution_count": 41,
     "metadata": {},
     "output_type": "execute_result"
    }
   ],
   "source": [
    "# 5 a\n",
    "np.min(std_matrix)"
   ]
  },
  {
   "cell_type": "code",
   "execution_count": 42,
   "id": "9e1e5e41",
   "metadata": {},
   "outputs": [
    {
     "data": {
      "text/plain": [
       "1.505173030980929"
      ]
     },
     "execution_count": 42,
     "metadata": {},
     "output_type": "execute_result"
    }
   ],
   "source": [
    "# 5 b\n",
    "np.max(std_matrix)"
   ]
  },
  {
   "cell_type": "code",
   "execution_count": 43,
   "id": "3de1a77c",
   "metadata": {},
   "outputs": [
    {
     "data": {
      "text/plain": [
       "0.7522277338975771"
      ]
     },
     "execution_count": 43,
     "metadata": {},
     "output_type": "execute_result"
    }
   ],
   "source": [
    "# 5 c\n",
    "np.std(std_matrix)"
   ]
  },
  {
   "cell_type": "code",
   "execution_count": 44,
   "id": "c46d3621",
   "metadata": {},
   "outputs": [
    {
     "data": {
      "text/plain": [
       "0.5658465636446841"
      ]
     },
     "execution_count": 44,
     "metadata": {},
     "output_type": "execute_result"
    }
   ],
   "source": [
    "# 5 d\n",
    "np.var(std_matrix)"
   ]
  },
  {
   "cell_type": "code",
   "execution_count": 45,
   "id": "e708c7ae",
   "metadata": {},
   "outputs": [
    {
     "data": {
      "text/plain": [
       "-0.29730962765990937"
      ]
     },
     "execution_count": 45,
     "metadata": {},
     "output_type": "execute_result"
    }
   ],
   "source": [
    "# 5 e\n",
    "np.mean(std_matrix)"
   ]
  },
  {
   "cell_type": "code",
   "execution_count": null,
   "id": "4ee2c27a",
   "metadata": {},
   "outputs": [],
   "source": []
  }
 ],
 "metadata": {
  "kernelspec": {
   "display_name": "Python 3 (ipykernel)",
   "language": "python",
   "name": "python3"
  },
  "language_info": {
   "codemirror_mode": {
    "name": "ipython",
    "version": 3
   },
   "file_extension": ".py",
   "mimetype": "text/x-python",
   "name": "python",
   "nbconvert_exporter": "python",
   "pygments_lexer": "ipython3",
   "version": "3.9.7"
  }
 },
 "nbformat": 4,
 "nbformat_minor": 5
}
